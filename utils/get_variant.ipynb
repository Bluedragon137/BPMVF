{
 "metadata": {
  "language_info": {
   "codemirror_mode": {
    "name": "ipython",
    "version": 3
   },
   "file_extension": ".py",
   "mimetype": "text/x-python",
   "name": "python",
   "nbconvert_exporter": "python",
   "pygments_lexer": "ipython3",
   "version": "3.6.8"
  },
  "orig_nbformat": 4,
  "kernelspec": {
   "name": "python3",
   "display_name": "Python 3.6.8 64-bit ('BPMVF': conda)"
  },
  "interpreter": {
   "hash": "51759d5823398353b1df4c063bdedd903c72719236a834ee2b693819ddbcfc4b"
  }
 },
 "nbformat": 4,
 "nbformat_minor": 2,
 "cells": [
  {
   "cell_type": "code",
   "execution_count": 2,
   "metadata": {},
   "outputs": [],
   "source": [
    "import numpy as np\n",
    "import pandas as pd\n",
    "import h5py\n",
    "import pysam"
   ]
  },
  {
   "cell_type": "code",
   "execution_count": 3,
   "metadata": {},
   "outputs": [],
   "source": [
    "fasta_ref = pysam.FastaFile('../reference/hg38.genome.fa')"
   ]
  },
  {
   "cell_type": "code",
   "execution_count": 4,
   "metadata": {},
   "outputs": [],
   "source": [
    "peaks_df = pd.read_csv('../ENCSR000EGM/data/origp.bed', sep='\\t', header=None, names=['chrom', 'st', 'en', 'name', 'score', 'strand', 'signalValue', 'p', 'q', 'summit'])"
   ]
  },
  {
   "cell_type": "code",
   "execution_count": 5,
   "metadata": {},
   "outputs": [],
   "source": [
    "chr1_peaks_df = peaks_df[peaks_df['chrom'].isin(('chr1',))]\n",
    "chr1_peaks_df = chr1_peaks_df.reset_index(drop=True)"
   ]
  },
  {
   "cell_type": "code",
   "execution_count": 6,
   "metadata": {},
   "outputs": [
    {
     "output_type": "execute_result",
     "data": {
      "text/plain": [
       "  chrom         st         en name  score strand  signalValue    p        q  \\\n",
       "0  chr1   35641559   35641799    .   1000      .      6.52180 -1.0  0.00080   \n",
       "1  chr1   27600557   27600797    .    599      .      6.59866 -1.0  0.00209   \n",
       "2  chr1    1944232    1944472    .   1000      .      6.69948 -1.0  0.01882   \n",
       "3  chr1  159925706  159925946    .    598      .      6.81884 -1.0  0.03458   \n",
       "4  chr1    7954373    7954613    .    579      .      6.88965 -1.0  0.04601   \n",
       "\n",
       "   summit  \n",
       "0     120  \n",
       "1     120  \n",
       "2     120  \n",
       "3     120  \n",
       "4     120  "
      ],
      "text/html": "<div>\n<style scoped>\n    .dataframe tbody tr th:only-of-type {\n        vertical-align: middle;\n    }\n\n    .dataframe tbody tr th {\n        vertical-align: top;\n    }\n\n    .dataframe thead th {\n        text-align: right;\n    }\n</style>\n<table border=\"1\" class=\"dataframe\">\n  <thead>\n    <tr style=\"text-align: right;\">\n      <th></th>\n      <th>chrom</th>\n      <th>st</th>\n      <th>en</th>\n      <th>name</th>\n      <th>score</th>\n      <th>strand</th>\n      <th>signalValue</th>\n      <th>p</th>\n      <th>q</th>\n      <th>summit</th>\n    </tr>\n  </thead>\n  <tbody>\n    <tr>\n      <th>0</th>\n      <td>chr1</td>\n      <td>35641559</td>\n      <td>35641799</td>\n      <td>.</td>\n      <td>1000</td>\n      <td>.</td>\n      <td>6.52180</td>\n      <td>-1.0</td>\n      <td>0.00080</td>\n      <td>120</td>\n    </tr>\n    <tr>\n      <th>1</th>\n      <td>chr1</td>\n      <td>27600557</td>\n      <td>27600797</td>\n      <td>.</td>\n      <td>599</td>\n      <td>.</td>\n      <td>6.59866</td>\n      <td>-1.0</td>\n      <td>0.00209</td>\n      <td>120</td>\n    </tr>\n    <tr>\n      <th>2</th>\n      <td>chr1</td>\n      <td>1944232</td>\n      <td>1944472</td>\n      <td>.</td>\n      <td>1000</td>\n      <td>.</td>\n      <td>6.69948</td>\n      <td>-1.0</td>\n      <td>0.01882</td>\n      <td>120</td>\n    </tr>\n    <tr>\n      <th>3</th>\n      <td>chr1</td>\n      <td>159925706</td>\n      <td>159925946</td>\n      <td>.</td>\n      <td>598</td>\n      <td>.</td>\n      <td>6.81884</td>\n      <td>-1.0</td>\n      <td>0.03458</td>\n      <td>120</td>\n    </tr>\n    <tr>\n      <th>4</th>\n      <td>chr1</td>\n      <td>7954373</td>\n      <td>7954613</td>\n      <td>.</td>\n      <td>579</td>\n      <td>.</td>\n      <td>6.88965</td>\n      <td>-1.0</td>\n      <td>0.04601</td>\n      <td>120</td>\n    </tr>\n  </tbody>\n</table>\n</div>"
     },
     "metadata": {},
     "execution_count": 6
    }
   ],
   "source": [
    "chr1_peaks_df.head()"
   ]
  },
  {
   "cell_type": "code",
   "execution_count": 7,
   "metadata": {},
   "outputs": [],
   "source": [
    "chr1_peaks_df['start'] = chr1_peaks_df['st'] + chr1_peaks_df['summit'] - (2114 // 2)\n",
    "chr1_peaks_df['end'] = chr1_peaks_df['st'] + chr1_peaks_df['summit'] + (2114 // 2)"
   ]
  },
  {
   "cell_type": "code",
   "execution_count": 8,
   "metadata": {},
   "outputs": [
    {
     "output_type": "stream",
     "name": "stdout",
     "text": [
      "6085\n"
     ]
    }
   ],
   "source": [
    "num_peaks = chr1_peaks_df.shape[0]\n",
    "print(num_peaks)"
   ]
  },
  {
   "cell_type": "code",
   "execution_count": 9,
   "metadata": {},
   "outputs": [
    {
     "output_type": "stream",
     "name": "stdout",
     "text": [
      "<class 'pandas.core.frame.DataFrame'>\n"
     ]
    }
   ],
   "source": [
    "chr1_peaks_df.head()\n",
    "print(type(chr1_peaks_df))"
   ]
  },
  {
   "cell_type": "code",
   "execution_count": 10,
   "metadata": {},
   "outputs": [],
   "source": [
    "seq1 = fasta_ref.fetch('chr1', 35640622, 35642736).upper()"
   ]
  },
  {
   "cell_type": "code",
   "execution_count": 11,
   "metadata": {},
   "outputs": [],
   "source": [
    "def insert_variant(seq, allele, position):\n",
    "    left, right = seq[:position-1], seq[position:]\n",
    "    return left + allele + right"
   ]
  },
  {
   "cell_type": "code",
   "execution_count": 12,
   "metadata": {},
   "outputs": [
    {
     "output_type": "stream",
     "name": "stdout",
     "text": [
      "AGCGACACCAGGAAACTTATCAGAGATTCGGGGATCTAGAGAGCCAGTCCCACAGTCTCACTCTCCTCAGGATCCCACCTTATGCCGCCAACAAACTAACCTCATTACTAGCGACACCAGGAAACTTATCAGAGATTCGGGGATCTAGAGAGCCAGGCTCTGGGCAGGCGCTTAAACATTTATAAACTGATTCCCTTTAGGCAACTCTCACCAAGCAAGAAGCATTTAGCGAAGGCCAGAGCAGAGCACTGACCCAGGAGCCCTGGAGGAGCAAATGCCAAGGTCCCAGACCTGTCTGCCTGTTTCGCCTGTAATCCCAGCACTTTGGAAGGCCGAGACGGGCGGATCTCCTGAGGTCGGGAGTTCGAGACCAGCCTGACCAATATGGAGAAATCCACATCTCTACTAATAATACAAAAATTAGCCAGGCGTGGTGGCGCATATCTGTTCCCAGCTACTCGGGAGGCTGAGGCACGAGAATCGCTTGAACCCGGGAGACAAAGACTGTGCTAAGCCGAGATCGCGCCATTGCACTCCGGCCTGGACAACAAGAGCGAAACCCCTCTCGAAAAAATAAATAAATAAATAAAATAAGTACGGGCAGGGCAGGCCGGCTTCCATCTCTCAGATCCTCCCTGGTACTTATTCAACCCCCGACAAACTCCTTCTGGCCGCTCCTACACCCCAGGCCTGGCCGGGCCTCCCCTGCTTCCTCTCACCGTCCTTCATCTGGACAATATTGCTGGCGGCCACCCGGTCGGAGGCGACAAGAACATAGTCGGGGCCTTGGATACCGATGAGGTACTCCATGGTGGCGGAAGGCCAGGGGCTGCAGGTCCGACACAGCACGAGACTCGCCCGCTTCCAGGTCTCACCGGTGAGACAGCACCTCAGAGCGAAGATTGGCGCGACGCCTGCAGCACGACTTCCACGGCGCTCTCGGATGACGTACAACTGTCGCGAGAGGTTGCAAAGCGGGCGCGGCGCCGGGTGCCTTATGTTCAGTGCTTGTCTCTGGGATCGTACGGGTCTCCTCCGGAGCAGGCTGTGCAGGTCGCTTGCCTTATGTGACGCCCAGTTTCTCTGTTTACACACTAAGATTTTAAAAGTGGCTTTAGGATAAAATCACGCAGTGTATGTAAGGTGCCGAGCACGTGTGGGTGTCAAAAAGGGGTAGGTAGCCAGGCAGCCGTTTCCCTACGTTGCTCGGTAAAATCTCCCCAGAAACCCCTTTCCTGCAAGCCAGATTGGAGAAAAATTAACTTGAGGGGAGCCTTACTTCCATCCTTCACAAAAATAGTATATGGTTGGATTAAAGATATAAGCATGGCCGGGCGCAGTGGCTCACGCCTGTAATCCCAGCACTTTGGGAGGCCAAGGCAGGCGGATCACCTGAGCTTGGGAGTTCGAGACCAGCCTGACCAATATGGAGAAACCCCGTCTCTACTAAAAATACAAAATTAGCTGGGCGTGGTGGCGCATGCCTGTAATCCCAGCTACTCTGGAGGCTGAGACAGAGAATCGCTTGATCCCTGGAGGCGGAGGTTGCGGTGAGCACTCCAGCCTGGGCAACAAAAGCGAAACTCCGTCTCAAAAAAAAAAAAAAAAAAAAAAAAAAAAAAAAAAAAAAAAAAAAGAGAGGGAGAGAGATACAAACATGGAAGAAAAAGTAGAAAAATATTTCTGTAATTTTTGGAAGAGATGTGTTTCTAAGCTTGACAGGGAACCCAGAAGCAATATGAGAAAAGACTTGACAGATTTGACTACCTAAAATTACACGTCTCTATGTGGTGAAAGTCATTATCATGCTCAACAGTAAATGTAAATTGGGAATGTTTCAATTGTAGAAATAGTTACTATTTTGGACCTTATAGACAGAAGAAAGGAAAAAGTTAATATCTATAACTTAAAAGATATTCCTACAAACCAATGGGAGGGGAGCCGGGTGAGACAATACCATTTTTAAAAGACCCGGCAGGGCACGGGGGCGGATCAAGAGGTCGGGAGTTCGAGAACAGCCTGGCCAATATGGTGAAACCCCGTCCCTACTAAAAATACAAAAAATTAGTTGGGCGTGGTGGCAGGCGCCTGTACTACTCCGGAGGCTGAAGCAG 2114\n"
     ]
    }
   ],
   "source": [
    "seq1_var = insert_variant(seq1, 'G', 1057)\n",
    "print(seq1_var, len(seq1_var))"
   ]
  },
  {
   "cell_type": "code",
   "execution_count": 13,
   "metadata": {},
   "outputs": [],
   "source": [
    "def add_variant(df, chromosome, position, allele):\n",
    "    df2 = pd.DataFrame([[chromosome, position, allele]], \\\n",
    "        columns = ['chrom', 'st', 'allele'])\n",
    "    return df.append(df2)"
   ]
  },
  {
   "cell_type": "code",
   "execution_count": 14,
   "metadata": {},
   "outputs": [
    {
     "output_type": "execute_result",
     "data": {
      "text/plain": [
       "   chrom        st allele\n",
       "0  chr11  86103988      G\n",
       "0  chr11  86103988      A"
      ],
      "text/html": "<div>\n<style scoped>\n    .dataframe tbody tr th:only-of-type {\n        vertical-align: middle;\n    }\n\n    .dataframe tbody tr th {\n        vertical-align: top;\n    }\n\n    .dataframe thead th {\n        text-align: right;\n    }\n</style>\n<table border=\"1\" class=\"dataframe\">\n  <thead>\n    <tr style=\"text-align: right;\">\n      <th></th>\n      <th>chrom</th>\n      <th>st</th>\n      <th>allele</th>\n    </tr>\n  </thead>\n  <tbody>\n    <tr>\n      <th>0</th>\n      <td>chr11</td>\n      <td>86103988</td>\n      <td>G</td>\n    </tr>\n    <tr>\n      <th>0</th>\n      <td>chr11</td>\n      <td>86103988</td>\n      <td>A</td>\n    </tr>\n  </tbody>\n</table>\n</div>"
     },
     "metadata": {},
     "execution_count": 14
    }
   ],
   "source": [
    "var_df = pd.DataFrame(columns = ['chrom', 'st', 'allele'])\n",
    "var_df = add_variant(var_df, 'chr11', 86103988, 'G')\n",
    "var_df = add_variant(var_df, 'chr11', 86103988, 'A')\n",
    "var_df.head()"
   ]
  },
  {
   "cell_type": "code",
   "execution_count": 15,
   "metadata": {},
   "outputs": [
    {
     "output_type": "execute_result",
     "data": {
      "text/plain": [
       "   chrom        st allele  summit  signalValue\n",
       "0  chr11  86103988      G       0           10\n",
       "0  chr11  86103988      A       0           10"
      ],
      "text/html": "<div>\n<style scoped>\n    .dataframe tbody tr th:only-of-type {\n        vertical-align: middle;\n    }\n\n    .dataframe tbody tr th {\n        vertical-align: top;\n    }\n\n    .dataframe thead th {\n        text-align: right;\n    }\n</style>\n<table border=\"1\" class=\"dataframe\">\n  <thead>\n    <tr style=\"text-align: right;\">\n      <th></th>\n      <th>chrom</th>\n      <th>st</th>\n      <th>allele</th>\n      <th>summit</th>\n      <th>signalValue</th>\n    </tr>\n  </thead>\n  <tbody>\n    <tr>\n      <th>0</th>\n      <td>chr11</td>\n      <td>86103988</td>\n      <td>G</td>\n      <td>0</td>\n      <td>10</td>\n    </tr>\n    <tr>\n      <th>0</th>\n      <td>chr11</td>\n      <td>86103988</td>\n      <td>A</td>\n      <td>0</td>\n      <td>10</td>\n    </tr>\n  </tbody>\n</table>\n</div>"
     },
     "metadata": {},
     "execution_count": 15
    }
   ],
   "source": [
    "var_df['summit'] = 0\n",
    "var_df['signalValue'] = 10\n",
    "var_df.head()"
   ]
  },
  {
   "cell_type": "code",
   "execution_count": 16,
   "metadata": {},
   "outputs": [],
   "source": [
    "var_df.to_csv('rs1237999.bed', sep='\\t', encoding='utf-8', header=False, index=False)"
   ]
  },
  {
   "cell_type": "code",
   "execution_count": null,
   "metadata": {},
   "outputs": [],
   "source": []
  }
 ]
}