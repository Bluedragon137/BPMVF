{
 "metadata": {
  "language_info": {
   "codemirror_mode": {
    "name": "ipython",
    "version": 3
   },
   "file_extension": ".py",
   "mimetype": "text/x-python",
   "name": "python",
   "nbconvert_exporter": "python",
   "pygments_lexer": "ipython3",
   "version": "3.6.8"
  },
  "orig_nbformat": 4,
  "kernelspec": {
   "name": "python3",
   "display_name": "Python 3.6.8 64-bit ('BPMVF': conda)"
  },
  "interpreter": {
   "hash": "51759d5823398353b1df4c063bdedd903c72719236a834ee2b693819ddbcfc4b"
  }
 },
 "nbformat": 4,
 "nbformat_minor": 2,
 "cells": [
  {
   "cell_type": "code",
   "execution_count": 3,
   "metadata": {},
   "outputs": [],
   "source": [
    "import numpy as np\n",
    "import pandas as pd\n",
    "import h5py\n",
    "import pysam"
   ]
  },
  {
   "cell_type": "code",
   "execution_count": 4,
   "metadata": {},
   "outputs": [],
   "source": [
    "fasta_ref = pysam.FastaFile('../reference/hg38.genome.fa')"
   ]
  },
  {
   "cell_type": "code",
   "execution_count": 5,
   "metadata": {},
   "outputs": [],
   "source": [
    "sequences = []"
   ]
  },
  {
   "cell_type": "code",
   "execution_count": 7,
   "metadata": {},
   "outputs": [],
   "source": [
    "peaks_df = pd.read_csv('../ENCSR000EGM/data/origp.bed', sep='\\t', header=None, names=['chrom', 'st', 'end', 'name', 'score', 'strand', 'signalValue', 'p', 'q', 'summit'])"
   ]
  },
  {
   "cell_type": "code",
   "execution_count": 9,
   "metadata": {},
   "outputs": [],
   "source": [
    "peaks_df = peaks_df[peaks_df['chrom'].isin(('chr1',))]"
   ]
  },
  {
   "cell_type": "code",
   "execution_count": 10,
   "metadata": {},
   "outputs": [
    {
     "output_type": "execute_result",
     "data": {
      "text/plain": [
       "   chrom         st        end name  score strand  signalValue    p        q  \\\n",
       "3   chr1   35641559   35641799    .   1000      .      6.52180 -1.0  0.00080   \n",
       "6   chr1   27600557   27600797    .    599      .      6.59866 -1.0  0.00209   \n",
       "10  chr1    1944232    1944472    .   1000      .      6.69948 -1.0  0.01882   \n",
       "17  chr1  159925706  159925946    .    598      .      6.81884 -1.0  0.03458   \n",
       "24  chr1    7954373    7954613    .    579      .      6.88965 -1.0  0.04601   \n",
       "\n",
       "    summit  \n",
       "3      120  \n",
       "6      120  \n",
       "10     120  \n",
       "17     120  \n",
       "24     120  "
      ],
      "text/html": "<div>\n<style scoped>\n    .dataframe tbody tr th:only-of-type {\n        vertical-align: middle;\n    }\n\n    .dataframe tbody tr th {\n        vertical-align: top;\n    }\n\n    .dataframe thead th {\n        text-align: right;\n    }\n</style>\n<table border=\"1\" class=\"dataframe\">\n  <thead>\n    <tr style=\"text-align: right;\">\n      <th></th>\n      <th>chrom</th>\n      <th>st</th>\n      <th>end</th>\n      <th>name</th>\n      <th>score</th>\n      <th>strand</th>\n      <th>signalValue</th>\n      <th>p</th>\n      <th>q</th>\n      <th>summit</th>\n    </tr>\n  </thead>\n  <tbody>\n    <tr>\n      <th>3</th>\n      <td>chr1</td>\n      <td>35641559</td>\n      <td>35641799</td>\n      <td>.</td>\n      <td>1000</td>\n      <td>.</td>\n      <td>6.52180</td>\n      <td>-1.0</td>\n      <td>0.00080</td>\n      <td>120</td>\n    </tr>\n    <tr>\n      <th>6</th>\n      <td>chr1</td>\n      <td>27600557</td>\n      <td>27600797</td>\n      <td>.</td>\n      <td>599</td>\n      <td>.</td>\n      <td>6.59866</td>\n      <td>-1.0</td>\n      <td>0.00209</td>\n      <td>120</td>\n    </tr>\n    <tr>\n      <th>10</th>\n      <td>chr1</td>\n      <td>1944232</td>\n      <td>1944472</td>\n      <td>.</td>\n      <td>1000</td>\n      <td>.</td>\n      <td>6.69948</td>\n      <td>-1.0</td>\n      <td>0.01882</td>\n      <td>120</td>\n    </tr>\n    <tr>\n      <th>17</th>\n      <td>chr1</td>\n      <td>159925706</td>\n      <td>159925946</td>\n      <td>.</td>\n      <td>598</td>\n      <td>.</td>\n      <td>6.81884</td>\n      <td>-1.0</td>\n      <td>0.03458</td>\n      <td>120</td>\n    </tr>\n    <tr>\n      <th>24</th>\n      <td>chr1</td>\n      <td>7954373</td>\n      <td>7954613</td>\n      <td>.</td>\n      <td>579</td>\n      <td>.</td>\n      <td>6.88965</td>\n      <td>-1.0</td>\n      <td>0.04601</td>\n      <td>120</td>\n    </tr>\n  </tbody>\n</table>\n</div>"
     },
     "metadata": {},
     "execution_count": 10
    }
   ],
   "source": [
    "peaks_df.head()"
   ]
  },
  {
   "cell_type": "code",
   "execution_count": 11,
   "metadata": {},
   "outputs": [],
   "source": [
    "peaks_df = peaks_df.reset_index(drop=True)"
   ]
  },
  {
   "cell_type": "code",
   "execution_count": 12,
   "metadata": {},
   "outputs": [
    {
     "output_type": "execute_result",
     "data": {
      "text/plain": [
       "  chrom         st        end name  score strand  signalValue    p        q  \\\n",
       "0  chr1   35641559   35641799    .   1000      .      6.52180 -1.0  0.00080   \n",
       "1  chr1   27600557   27600797    .    599      .      6.59866 -1.0  0.00209   \n",
       "2  chr1    1944232    1944472    .   1000      .      6.69948 -1.0  0.01882   \n",
       "3  chr1  159925706  159925946    .    598      .      6.81884 -1.0  0.03458   \n",
       "4  chr1    7954373    7954613    .    579      .      6.88965 -1.0  0.04601   \n",
       "\n",
       "   summit  \n",
       "0     120  \n",
       "1     120  \n",
       "2     120  \n",
       "3     120  \n",
       "4     120  "
      ],
      "text/html": "<div>\n<style scoped>\n    .dataframe tbody tr th:only-of-type {\n        vertical-align: middle;\n    }\n\n    .dataframe tbody tr th {\n        vertical-align: top;\n    }\n\n    .dataframe thead th {\n        text-align: right;\n    }\n</style>\n<table border=\"1\" class=\"dataframe\">\n  <thead>\n    <tr style=\"text-align: right;\">\n      <th></th>\n      <th>chrom</th>\n      <th>st</th>\n      <th>end</th>\n      <th>name</th>\n      <th>score</th>\n      <th>strand</th>\n      <th>signalValue</th>\n      <th>p</th>\n      <th>q</th>\n      <th>summit</th>\n    </tr>\n  </thead>\n  <tbody>\n    <tr>\n      <th>0</th>\n      <td>chr1</td>\n      <td>35641559</td>\n      <td>35641799</td>\n      <td>.</td>\n      <td>1000</td>\n      <td>.</td>\n      <td>6.52180</td>\n      <td>-1.0</td>\n      <td>0.00080</td>\n      <td>120</td>\n    </tr>\n    <tr>\n      <th>1</th>\n      <td>chr1</td>\n      <td>27600557</td>\n      <td>27600797</td>\n      <td>.</td>\n      <td>599</td>\n      <td>.</td>\n      <td>6.59866</td>\n      <td>-1.0</td>\n      <td>0.00209</td>\n      <td>120</td>\n    </tr>\n    <tr>\n      <th>2</th>\n      <td>chr1</td>\n      <td>1944232</td>\n      <td>1944472</td>\n      <td>.</td>\n      <td>1000</td>\n      <td>.</td>\n      <td>6.69948</td>\n      <td>-1.0</td>\n      <td>0.01882</td>\n      <td>120</td>\n    </tr>\n    <tr>\n      <th>3</th>\n      <td>chr1</td>\n      <td>159925706</td>\n      <td>159925946</td>\n      <td>.</td>\n      <td>598</td>\n      <td>.</td>\n      <td>6.81884</td>\n      <td>-1.0</td>\n      <td>0.03458</td>\n      <td>120</td>\n    </tr>\n    <tr>\n      <th>4</th>\n      <td>chr1</td>\n      <td>7954373</td>\n      <td>7954613</td>\n      <td>.</td>\n      <td>579</td>\n      <td>.</td>\n      <td>6.88965</td>\n      <td>-1.0</td>\n      <td>0.04601</td>\n      <td>120</td>\n    </tr>\n  </tbody>\n</table>\n</div>"
     },
     "metadata": {},
     "execution_count": 12
    }
   ],
   "source": [
    "peaks_df.head()"
   ]
  },
  {
   "cell_type": "code",
   "execution_count": 13,
   "metadata": {},
   "outputs": [],
   "source": [
    "peaks_df['start'] = peaks_df['st'] + peaks_df['summit'] - \\\n",
    "    (2114 // 2)\n",
    "peaks_df['end'] = peaks_df['st'] + peaks_df['summit'] + \\\n",
    "    (2114 // 2)"
   ]
  },
  {
   "cell_type": "code",
   "execution_count": 34,
   "metadata": {},
   "outputs": [
    {
     "output_type": "execute_result",
     "data": {
      "text/plain": [
       "  chrom         st        end name  score strand  signalValue    p        q  \\\n",
       "0  chr1   35641559   35642736    .   1000      .      6.52180 -1.0  0.00080   \n",
       "1  chr1   27600557   27601734    .    599      .      6.59866 -1.0  0.00209   \n",
       "2  chr1    1944232    1945409    .   1000      .      6.69948 -1.0  0.01882   \n",
       "3  chr1  159925706  159926883    .    598      .      6.81884 -1.0  0.03458   \n",
       "4  chr1    7954373    7955550    .    579      .      6.88965 -1.0  0.04601   \n",
       "\n",
       "   summit      start  \n",
       "0     120   35640622  \n",
       "1     120   27599620  \n",
       "2     120    1943295  \n",
       "3     120  159924769  \n",
       "4     120    7953436  "
      ],
      "text/html": "<div>\n<style scoped>\n    .dataframe tbody tr th:only-of-type {\n        vertical-align: middle;\n    }\n\n    .dataframe tbody tr th {\n        vertical-align: top;\n    }\n\n    .dataframe thead th {\n        text-align: right;\n    }\n</style>\n<table border=\"1\" class=\"dataframe\">\n  <thead>\n    <tr style=\"text-align: right;\">\n      <th></th>\n      <th>chrom</th>\n      <th>st</th>\n      <th>end</th>\n      <th>name</th>\n      <th>score</th>\n      <th>strand</th>\n      <th>signalValue</th>\n      <th>p</th>\n      <th>q</th>\n      <th>summit</th>\n      <th>start</th>\n    </tr>\n  </thead>\n  <tbody>\n    <tr>\n      <th>0</th>\n      <td>chr1</td>\n      <td>35641559</td>\n      <td>35642736</td>\n      <td>.</td>\n      <td>1000</td>\n      <td>.</td>\n      <td>6.52180</td>\n      <td>-1.0</td>\n      <td>0.00080</td>\n      <td>120</td>\n      <td>35640622</td>\n    </tr>\n    <tr>\n      <th>1</th>\n      <td>chr1</td>\n      <td>27600557</td>\n      <td>27601734</td>\n      <td>.</td>\n      <td>599</td>\n      <td>.</td>\n      <td>6.59866</td>\n      <td>-1.0</td>\n      <td>0.00209</td>\n      <td>120</td>\n      <td>27599620</td>\n    </tr>\n    <tr>\n      <th>2</th>\n      <td>chr1</td>\n      <td>1944232</td>\n      <td>1945409</td>\n      <td>.</td>\n      <td>1000</td>\n      <td>.</td>\n      <td>6.69948</td>\n      <td>-1.0</td>\n      <td>0.01882</td>\n      <td>120</td>\n      <td>1943295</td>\n    </tr>\n    <tr>\n      <th>3</th>\n      <td>chr1</td>\n      <td>159925706</td>\n      <td>159926883</td>\n      <td>.</td>\n      <td>598</td>\n      <td>.</td>\n      <td>6.81884</td>\n      <td>-1.0</td>\n      <td>0.03458</td>\n      <td>120</td>\n      <td>159924769</td>\n    </tr>\n    <tr>\n      <th>4</th>\n      <td>chr1</td>\n      <td>7954373</td>\n      <td>7955550</td>\n      <td>.</td>\n      <td>579</td>\n      <td>.</td>\n      <td>6.88965</td>\n      <td>-1.0</td>\n      <td>0.04601</td>\n      <td>120</td>\n      <td>7953436</td>\n    </tr>\n  </tbody>\n</table>\n</div>"
     },
     "metadata": {},
     "execution_count": 34
    }
   ],
   "source": [
    "peaks_df.head()"
   ]
  },
  {
   "cell_type": "code",
   "execution_count": 15,
   "metadata": {},
   "outputs": [
    {
     "output_type": "stream",
     "name": "stdout",
     "text": [
      "6085\n"
     ]
    }
   ],
   "source": [
    "num_peaks = peaks_df.shape[0]\n",
    "print(num_peaks)"
   ]
  },
  {
   "cell_type": "code",
   "execution_count": 42,
   "metadata": {},
   "outputs": [
    {
     "output_type": "stream",
     "name": "stdout",
     "text": [
      "AGCGACACCAGGAAACTTATCAGAGATTCGGGGATCTAGAGAGCCAGTCCCACAGTCTCACTCTCCTCAGGATCCCACCTTATGCCGCCAACAAACTAACCTCATTACTAGCGACACCAGGAAACTTATCAGAGATTCGGGGATCTAGAGAGCCAGGCTCTGGGCAGGCGCTTAAACATTTATAAACTGATTCCCTTTAGGCAACTCTCACCAAGCAAGAAGCATTTAGCGAAGGCCAGAGCAGAGCACTGACCCAGGAGCCCTGGAGGAGCAAATGCCAAGGTCCCAGACCTGTCTGCCTGTTTCGCCTGTAATCCCAGCACTTTGGAAGGCCGAGACGGGCGGATCTCCTGAGGTCGGGAGTTCGAGACCAGCCTGACCAATATGGAGAAATCCACATCTCTACTAATAATACAAAAATTAGCCAGGCGTGGTGGCGCATATCTGTTCCCAGCTACTCGGGAGGCTGAGGCACGAGAATCGCTTGAACCCGGGAGACAAAGACTGTGCTAAGCCGAGATCGCGCCATTGCACTCCGGCCTGGACAACAAGAGCGAAACCCCTCTCGAAAAAATAAATAAATAAATAAAATAAGTACGGGCAGGGCAGGCCGGCTTCCATCTCTCAGATCCTCCCTGGTACTTATTCAACCCCCGACAAACTCCTTCTGGCCGCTCCTACACCCCAGGCCTGGCCGGGCCTCCCCTGCTTCCTCTCACCGTCCTTCATCTGGACAATATTGCTGGCGGCCACCCGGTCGGAGGCGACAAGAACATAGTCGGGGCCTTGGATACCGATGAGGTACTCCATGGTGGCGGAAGGCCAGGGGCTGCAGGTCCGACACAGCACGAGACTCGCCCGCTTCCAGGTCTCACCGGTGAGACAGCACCTCAGAGCGAAGATTGGCGCGACGCCTGCAGCACGACTTCCACGGCGCTCTCGGATGACGTACAACTGTCGCGAGAGGTTGCAAAGCGGGCGCGGCGCCGGGTGCCTTATGTTCAGTGCTTGTCTCTGGGATCGTACGGGTCTCCTCCGGAGCAGGCTGTGCAGGTCACTTGCCTTATGTGACGCCCAGTTTCTCTGTTTACACACTAAGATTTTAAAAGTGGCTTTAGGATAAAATCACGCAGTGTATGTAAGGTGCCGAGCACGTGTGGGTGTCAAAAAGGGGTAGGTAGCCAGGCAGCCGTTTCCCTACGTTGCTCGGTAAAATCTCCCCAGAAACCCCTTTCCTGCAAGCCAGATTGGAGAAAAATTAACTTGAGGGGAGCCTTACTTCCATCCTTCACAAAAATAGTATATGGTTGGATTAAAGATATAAGCATGGCCGGGCGCAGTGGCTCACGCCTGTAATCCCAGCACTTTGGGAGGCCAAGGCAGGCGGATCACCTGAGCTTGGGAGTTCGAGACCAGCCTGACCAATATGGAGAAACCCCGTCTCTACTAAAAATACAAAATTAGCTGGGCGTGGTGGCGCATGCCTGTAATCCCAGCTACTCTGGAGGCTGAGACAGAGAATCGCTTGATCCCTGGAGGCGGAGGTTGCGGTGAGCACTCCAGCCTGGGCAACAAAAGCGAAACTCCGTCTCAAAAAAAAAAAAAAAAAAAAAAAAAAAAAAAAAAAAAAAAAAAAGAGAGGGAGAGAGATACAAACATGGAAGAAAAAGTAGAAAAATATTTCTGTAATTTTTGGAAGAGATGTGTTTCTAAGCTTGACAGGGAACCCAGAAGCAATATGAGAAAAGACTTGACAGATTTGACTACCTAAAATTACACGTCTCTATGTGGTGAAAGTCATTATCATGCTCAACAGTAAATGTAAATTGGGAATGTTTCAATTGTAGAAATAGTTACTATTTTGGACCTTATAGACAGAAGAAAGGAAAAAGTTAATATCTATAACTTAAAAGATATTCCTACAAACCAATGGGAGGGGAGCCGGGTGAGACAATACCATTTTTAAAAGACCCGGCAGGGCACGGGGGCGGATCAAGAGGTCGGGAGTTCGAGAACAGCCTGGCCAATATGGTGAAACCCCGTCCCTACTAAAAATACAAAAAATTAGTTGGGCGTGGTGGCAGGCGCCTGTACTACTCCGGAGGCTGAAGCAG <class 'str'> 2114\n"
     ]
    }
   ],
   "source": [
    "seq1 = fasta_ref.fetch('chr1', 35640622, 35642736).upper()\n",
    "print(seq1, type(seq1), len(seq1))"
   ]
  },
  {
   "cell_type": "code",
   "execution_count": 44,
   "metadata": {},
   "outputs": [],
   "source": [
    "def insert_variant(seq, allele, position):\n",
    "    left, right = seq[:position-1], seq[position:]\n",
    "    return left + allele + right"
   ]
  },
  {
   "cell_type": "code",
   "execution_count": 43,
   "metadata": {},
   "outputs": [
    {
     "output_type": "stream",
     "name": "stdout",
     "text": [
      "AGCGACACCAGGAAACTTATCAGAGATTCGGGGATCTAGAGAGCCAGTCCCACAGTCTCACTCTCCTCAGGATCCCACCTTATGCCGCCAACAAACTAACCTCATTACTAGCGACACCAGGAAACTTATCAGAGATTCGGGGATCTAGAGAGCCAGGCTCTGGGCAGGCGCTTAAACATTTATAAACTGATTCCCTTTAGGCAACTCTCACCAAGCAAGAAGCATTTAGCGAAGGCCAGAGCAGAGCACTGACCCAGGAGCCCTGGAGGAGCAAATGCCAAGGTCCCAGACCTGTCTGCCTGTTTCGCCTGTAATCCCAGCACTTTGGAAGGCCGAGACGGGCGGATCTCCTGAGGTCGGGAGTTCGAGACCAGCCTGACCAATATGGAGAAATCCACATCTCTACTAATAATACAAAAATTAGCCAGGCGTGGTGGCGCATATCTGTTCCCAGCTACTCGGGAGGCTGAGGCACGAGAATCGCTTGAACCCGGGAGACAAAGACTGTGCTAAGCCGAGATCGCGCCATTGCACTCCGGCCTGGACAACAAGAGCGAAACCCCTCTCGAAAAAATAAATAAATAAATAAAATAAGTACGGGCAGGGCAGGCCGGCTTCCATCTCTCAGATCCTCCCTGGTACTTATTCAACCCCCGACAAACTCCTTCTGGCCGCTCCTACACCCCAGGCCTGGCCGGGCCTCCCCTGCTTCCTCTCACCGTCCTTCATCTGGACAATATTGCTGGCGGCCACCCGGTCGGAGGCGACAAGAACATAGTCGGGGCCTTGGATACCGATGAGGTACTCCATGGTGGCGGAAGGCCAGGGGCTGCAGGTCCGACACAGCACGAGACTCGCCCGCTTCCAGGTCTCACCGGTGAGACAGCACCTCAGAGCGAAGATTGGCGCGACGCCTGCAGCACGACTTCCACGGCGCTCTCGGATGACGTACAACTGTCGCGAGAGGTTGCAAAGCGGGCGCGGCGCCGGGTGCCTTATGTTCAGTGCTTGTCTCTGGGATCGTACGGGTCTCCTCCGGAGCAGGCTGTGCAGGTC G CTTGCCTTATGTGACGCCCAGTTTCTCTGTTTACACACTAAGATTTTAAAAGTGGCTTTAGGATAAAATCACGCAGTGTATGTAAGGTGCCGAGCACGTGTGGGTGTCAAAAAGGGGTAGGTAGCCAGGCAGCCGTTTCCCTACGTTGCTCGGTAAAATCTCCCCAGAAACCCCTTTCCTGCAAGCCAGATTGGAGAAAAATTAACTTGAGGGGAGCCTTACTTCCATCCTTCACAAAAATAGTATATGGTTGGATTAAAGATATAAGCATGGCCGGGCGCAGTGGCTCACGCCTGTAATCCCAGCACTTTGGGAGGCCAAGGCAGGCGGATCACCTGAGCTTGGGAGTTCGAGACCAGCCTGACCAATATGGAGAAACCCCGTCTCTACTAAAAATACAAAATTAGCTGGGCGTGGTGGCGCATGCCTGTAATCCCAGCTACTCTGGAGGCTGAGACAGAGAATCGCTTGATCCCTGGAGGCGGAGGTTGCGGTGAGCACTCCAGCCTGGGCAACAAAAGCGAAACTCCGTCTCAAAAAAAAAAAAAAAAAAAAAAAAAAAAAAAAAAAAAAAAAAAAGAGAGGGAGAGAGATACAAACATGGAAGAAAAAGTAGAAAAATATTTCTGTAATTTTTGGAAGAGATGTGTTTCTAAGCTTGACAGGGAACCCAGAAGCAATATGAGAAAAGACTTGACAGATTTGACTACCTAAAATTACACGTCTCTATGTGGTGAAAGTCATTATCATGCTCAACAGTAAATGTAAATTGGGAATGTTTCAATTGTAGAAATAGTTACTATTTTGGACCTTATAGACAGAAGAAAGGAAAAAGTTAATATCTATAACTTAAAAGATATTCCTACAAACCAATGGGAGGGGAGCCGGGTGAGACAATACCATTTTTAAAAGACCCGGCAGGGCACGGGGGCGGATCAAGAGGTCGGGAGTTCGAGAACAGCCTGGCCAATATGGTGAAACCCCGTCCCTACTAAAAATACAAAAAATTAGTTGGGCGTGGTGGCAGGCGCCTGTACTACTCCGGAGGCTGAAGCAG 2116\n"
     ]
    }
   ],
   "source": [
    "seq1_var = insert_variant(seq1, 'G', 1057)\n",
    "print(seq1_var, len(seq1_var))"
   ]
  },
  {
   "cell_type": "code",
   "execution_count": 48,
   "metadata": {},
   "outputs": [],
   "source": [
    "def make_variant_input(chromosome, position, allele1, allele2):\n",
    "    entry = [[chromosome, position, allele1, allele2]]\n",
    "    df = pd.DataFrame(entry, columns = \\\n",
    "        ['chrom', 'position', 'allele1', 'allele2'])\n",
    "    return df"
   ]
  },
  {
   "cell_type": "code",
   "execution_count": 52,
   "metadata": {},
   "outputs": [
    {
     "output_type": "stream",
     "name": "stdout",
     "text": [
      "<class 'pandas.core.frame.DataFrame'>\nRangeIndex: 1 entries, 0 to 0\nData columns (total 4 columns):\n #   Column    Non-Null Count  Dtype \n---  ------    --------------  ----- \n 0   chrom     1 non-null      object\n 1   position  1 non-null      int64 \n 2   allele1   1 non-null      object\n 3   allele2   1 non-null      object\ndtypes: int64(1), object(3)\nmemory usage: 160.0+ bytes\n"
     ]
    },
    {
     "output_type": "execute_result",
     "data": {
      "text/plain": [
       "  chrom  position allele1 allele2\n",
       "0  chr1  35641679       A       G"
      ],
      "text/html": "<div>\n<style scoped>\n    .dataframe tbody tr th:only-of-type {\n        vertical-align: middle;\n    }\n\n    .dataframe tbody tr th {\n        vertical-align: top;\n    }\n\n    .dataframe thead th {\n        text-align: right;\n    }\n</style>\n<table border=\"1\" class=\"dataframe\">\n  <thead>\n    <tr style=\"text-align: right;\">\n      <th></th>\n      <th>chrom</th>\n      <th>position</th>\n      <th>allele1</th>\n      <th>allele2</th>\n    </tr>\n  </thead>\n  <tbody>\n    <tr>\n      <th>0</th>\n      <td>chr1</td>\n      <td>35641679</td>\n      <td>A</td>\n      <td>G</td>\n    </tr>\n  </tbody>\n</table>\n</div>"
     },
     "metadata": {},
     "execution_count": 52
    }
   ],
   "source": [
    "var_df = make_variant_input('chr1', 35641679, 'A', 'G')\n",
    "var_df.info()\n",
    "var_df.head()"
   ]
  },
  {
   "cell_type": "code",
   "execution_count": null,
   "metadata": {},
   "outputs": [],
   "source": []
  }
 ]
}